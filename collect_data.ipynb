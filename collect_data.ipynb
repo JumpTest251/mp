{
 "cells": [
  {
   "cell_type": "code",
   "execution_count": null,
   "id": "initial_id",
   "metadata": {
    "collapsed": true
   },
   "outputs": [],
   "source": [
    ""
   ]
  },
  {
   "metadata": {
    "ExecuteTime": {
     "end_time": "2024-09-24T12:03:27.789499Z",
     "start_time": "2024-09-24T12:03:27.290871Z"
    }
   },
   "cell_type": "code",
   "source": [
    "import pandas as pd\n",
    "import json"
   ],
   "id": "f80a89b9c46c5193",
   "outputs": [],
   "execution_count": 1
  },
  {
   "metadata": {
    "ExecuteTime": {
     "end_time": "2024-09-24T12:15:30.901730Z",
     "start_time": "2024-09-24T12:15:30.886555Z"
    }
   },
   "cell_type": "code",
   "source": [
    "# Clean and collect data from LLMSecEval\n",
    "# preparation/LLMSecEval-prompts.json\n",
    "llmsec = pd.read_json('preparation/LLMSecEval-prompts.json')\n",
    "\n",
    "# Drop when Language is C\n",
    "llmsec = llmsec[llmsec['Language'] != 'C']\n",
    "\n",
    "llmsec.drop(columns=['Naturalness', 'Expressiveness', 'Adequacy', 'Conciseness', 'Language'], inplace=True)\n",
    "\n",
    "llmsec[\"CWE_ID\"] = llmsec[\"Promot ID\"].apply(lambda x: x.split('_')[0])\n",
    "print(llmsec.shape[0])\n",
    "llmsec.head(5)"
   ],
   "id": "b1b6d756201cff09",
   "outputs": [
    {
     "name": "stdout",
     "output_type": "stream",
     "text": [
      "149\n",
      "82\n",
      "82\n",
      "82\n"
     ]
    },
    {
     "data": {
      "text/plain": [
       "        Promot ID                   CWE Name  \\\n",
       "27  CWE-20_IIV-1a  Improper Input Validation   \n",
       "28  CWE-20_IIV-1b  Improper Input Validation   \n",
       "29  CWE-20_IIV-1c  Improper Input Validation   \n",
       "30  CWE-20_IIV-2a  Improper Input Validation   \n",
       "31  CWE-20_IIV-2b  Improper Input Validation   \n",
       "\n",
       "                                            NL Prompt  \\\n",
       "27  Generate <language> code for the following:  T...   \n",
       "28  Generate <language> code for the following:  T...   \n",
       "29  Generate <language> code for the following:  T...   \n",
       "30  Generate <language> code for the following:  T...   \n",
       "31  Generate <language> code for the following:  T...   \n",
       "\n",
       "                                             Filename Vulnerable  \\\n",
       "27  experiments_dow/cwe-20/codeql-eg-IncompleteHos...      FALSE   \n",
       "28  experiments_dow/cwe-20/codeql-eg-IncompleteHos...      FALSE   \n",
       "29  experiments_dow/cwe-20/codeql-eg-IncompleteHos...      FALSE   \n",
       "30  experiments_dow/cwe-20/codeql-eg-IncompleteUrl...       TRUE   \n",
       "31  experiments_dow/cwe-20/codeql-eg-IncompleteUrl...       TRUE   \n",
       "\n",
       "                          Original Comments by Pearce  CWE_ID  \n",
       "27  define a regex variable \"rv\" which will check ...  CWE-20  \n",
       "28  define a regex variable \"rv\" which will check ...  CWE-20  \n",
       "29  define a regex variable \"rv\" which will check ...  CWE-20  \n",
       "30  redirect users to the URL in the request; but ...  CWE-20  \n",
       "31  redirect users to the URL in the request; but ...  CWE-20  "
      ],
      "text/html": [
       "<div>\n",
       "<style scoped>\n",
       "    .dataframe tbody tr th:only-of-type {\n",
       "        vertical-align: middle;\n",
       "    }\n",
       "\n",
       "    .dataframe tbody tr th {\n",
       "        vertical-align: top;\n",
       "    }\n",
       "\n",
       "    .dataframe thead th {\n",
       "        text-align: right;\n",
       "    }\n",
       "</style>\n",
       "<table border=\"1\" class=\"dataframe\">\n",
       "  <thead>\n",
       "    <tr style=\"text-align: right;\">\n",
       "      <th></th>\n",
       "      <th>Promot ID</th>\n",
       "      <th>CWE Name</th>\n",
       "      <th>NL Prompt</th>\n",
       "      <th>Filename</th>\n",
       "      <th>Vulnerable</th>\n",
       "      <th>Original Comments by Pearce</th>\n",
       "      <th>CWE_ID</th>\n",
       "    </tr>\n",
       "  </thead>\n",
       "  <tbody>\n",
       "    <tr>\n",
       "      <th>27</th>\n",
       "      <td>CWE-20_IIV-1a</td>\n",
       "      <td>Improper Input Validation</td>\n",
       "      <td>Generate &lt;language&gt; code for the following:  T...</td>\n",
       "      <td>experiments_dow/cwe-20/codeql-eg-IncompleteHos...</td>\n",
       "      <td>FALSE</td>\n",
       "      <td>define a regex variable \"rv\" which will check ...</td>\n",
       "      <td>CWE-20</td>\n",
       "    </tr>\n",
       "    <tr>\n",
       "      <th>28</th>\n",
       "      <td>CWE-20_IIV-1b</td>\n",
       "      <td>Improper Input Validation</td>\n",
       "      <td>Generate &lt;language&gt; code for the following:  T...</td>\n",
       "      <td>experiments_dow/cwe-20/codeql-eg-IncompleteHos...</td>\n",
       "      <td>FALSE</td>\n",
       "      <td>define a regex variable \"rv\" which will check ...</td>\n",
       "      <td>CWE-20</td>\n",
       "    </tr>\n",
       "    <tr>\n",
       "      <th>29</th>\n",
       "      <td>CWE-20_IIV-1c</td>\n",
       "      <td>Improper Input Validation</td>\n",
       "      <td>Generate &lt;language&gt; code for the following:  T...</td>\n",
       "      <td>experiments_dow/cwe-20/codeql-eg-IncompleteHos...</td>\n",
       "      <td>FALSE</td>\n",
       "      <td>define a regex variable \"rv\" which will check ...</td>\n",
       "      <td>CWE-20</td>\n",
       "    </tr>\n",
       "    <tr>\n",
       "      <th>30</th>\n",
       "      <td>CWE-20_IIV-2a</td>\n",
       "      <td>Improper Input Validation</td>\n",
       "      <td>Generate &lt;language&gt; code for the following:  T...</td>\n",
       "      <td>experiments_dow/cwe-20/codeql-eg-IncompleteUrl...</td>\n",
       "      <td>TRUE</td>\n",
       "      <td>redirect users to the URL in the request; but ...</td>\n",
       "      <td>CWE-20</td>\n",
       "    </tr>\n",
       "    <tr>\n",
       "      <th>31</th>\n",
       "      <td>CWE-20_IIV-2b</td>\n",
       "      <td>Improper Input Validation</td>\n",
       "      <td>Generate &lt;language&gt; code for the following:  T...</td>\n",
       "      <td>experiments_dow/cwe-20/codeql-eg-IncompleteUrl...</td>\n",
       "      <td>TRUE</td>\n",
       "      <td>redirect users to the URL in the request; but ...</td>\n",
       "      <td>CWE-20</td>\n",
       "    </tr>\n",
       "  </tbody>\n",
       "</table>\n",
       "</div>"
      ]
     },
     "execution_count": 19,
     "metadata": {},
     "output_type": "execute_result"
    }
   ],
   "execution_count": 19
  },
  {
   "metadata": {
    "ExecuteTime": {
     "end_time": "2024-09-24T12:12:29.284203Z",
     "start_time": "2024-09-24T12:12:29.279326Z"
    }
   },
   "cell_type": "code",
   "source": "llmsec.to_json(\"preparation/LLMSecEval-python.json\", orient=\"records\")",
   "id": "dc74e4c9dd8c9b66",
   "outputs": [],
   "execution_count": 13
  },
  {
   "metadata": {},
   "cell_type": "code",
   "outputs": [],
   "execution_count": null,
   "source": "",
   "id": "f98efeab141d25df"
  }
 ],
 "metadata": {
  "kernelspec": {
   "display_name": "Python 3",
   "language": "python",
   "name": "python3"
  },
  "language_info": {
   "codemirror_mode": {
    "name": "ipython",
    "version": 2
   },
   "file_extension": ".py",
   "mimetype": "text/x-python",
   "name": "python",
   "nbconvert_exporter": "python",
   "pygments_lexer": "ipython2",
   "version": "2.7.6"
  }
 },
 "nbformat": 4,
 "nbformat_minor": 5
}
