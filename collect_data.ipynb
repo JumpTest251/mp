{
 "cells": [
  {
   "cell_type": "code",
   "execution_count": null,
   "id": "initial_id",
   "metadata": {
    "collapsed": true
   },
   "outputs": [],
   "source": [
    ""
   ]
  },
  {
   "metadata": {
    "ExecuteTime": {
     "end_time": "2024-09-25T12:48:39.624383Z",
     "start_time": "2024-09-25T12:48:38.657856Z"
    }
   },
   "cell_type": "code",
   "source": [
    "import pandas as pd\n",
    "import json"
   ],
   "id": "f80a89b9c46c5193",
   "outputs": [],
   "execution_count": 1
  },
  {
   "metadata": {},
   "cell_type": "markdown",
   "source": "#### **Clean and collect data from LLMSecEval**",
   "id": "1ab73726bc991e11"
  },
  {
   "metadata": {
    "ExecuteTime": {
     "end_time": "2024-09-24T13:36:22.358802Z",
     "start_time": "2024-09-24T13:36:22.339866Z"
    }
   },
   "cell_type": "code",
   "source": [
    "# preparation/LLMSecEval-prompts.json\n",
    "llmsec = pd.read_json('preparation/LLMSecEval-prompts.json')\n",
    "\n",
    "# Drop when Language is C\n",
    "llmsec = llmsec[llmsec['Language'] != 'C']\n",
    "\n",
    "llmsec.drop(columns=['Naturalness', 'Expressiveness', 'Adequacy', 'Conciseness', 'Language'], inplace=True)\n",
    "\n",
    "llmsec[\"CWE_ID\"] = llmsec[\"Promot ID\"].apply(lambda x: x.split('_')[0])\n",
    "print(llmsec.shape[0])\n",
    "llmsec.head(5)"
   ],
   "id": "b1b6d756201cff09",
   "outputs": [
    {
     "name": "stdout",
     "output_type": "stream",
     "text": [
      "82\n"
     ]
    },
    {
     "data": {
      "text/plain": [
       "        Promot ID                   CWE Name  \\\n",
       "27  CWE-20_IIV-1a  Improper Input Validation   \n",
       "28  CWE-20_IIV-1b  Improper Input Validation   \n",
       "29  CWE-20_IIV-1c  Improper Input Validation   \n",
       "30  CWE-20_IIV-2a  Improper Input Validation   \n",
       "31  CWE-20_IIV-2b  Improper Input Validation   \n",
       "\n",
       "                                            NL Prompt  \\\n",
       "27  Generate <language> code for the following:  T...   \n",
       "28  Generate <language> code for the following:  T...   \n",
       "29  Generate <language> code for the following:  T...   \n",
       "30  Generate <language> code for the following:  T...   \n",
       "31  Generate <language> code for the following:  T...   \n",
       "\n",
       "                                             Filename Vulnerable  \\\n",
       "27  experiments_dow/cwe-20/codeql-eg-IncompleteHos...      FALSE   \n",
       "28  experiments_dow/cwe-20/codeql-eg-IncompleteHos...      FALSE   \n",
       "29  experiments_dow/cwe-20/codeql-eg-IncompleteHos...      FALSE   \n",
       "30  experiments_dow/cwe-20/codeql-eg-IncompleteUrl...       TRUE   \n",
       "31  experiments_dow/cwe-20/codeql-eg-IncompleteUrl...       TRUE   \n",
       "\n",
       "                          Original Comments by Pearce  CWE_ID  \n",
       "27  define a regex variable \"rv\" which will check ...  CWE-20  \n",
       "28  define a regex variable \"rv\" which will check ...  CWE-20  \n",
       "29  define a regex variable \"rv\" which will check ...  CWE-20  \n",
       "30  redirect users to the URL in the request; but ...  CWE-20  \n",
       "31  redirect users to the URL in the request; but ...  CWE-20  "
      ],
      "text/html": [
       "<div>\n",
       "<style scoped>\n",
       "    .dataframe tbody tr th:only-of-type {\n",
       "        vertical-align: middle;\n",
       "    }\n",
       "\n",
       "    .dataframe tbody tr th {\n",
       "        vertical-align: top;\n",
       "    }\n",
       "\n",
       "    .dataframe thead th {\n",
       "        text-align: right;\n",
       "    }\n",
       "</style>\n",
       "<table border=\"1\" class=\"dataframe\">\n",
       "  <thead>\n",
       "    <tr style=\"text-align: right;\">\n",
       "      <th></th>\n",
       "      <th>Promot ID</th>\n",
       "      <th>CWE Name</th>\n",
       "      <th>NL Prompt</th>\n",
       "      <th>Filename</th>\n",
       "      <th>Vulnerable</th>\n",
       "      <th>Original Comments by Pearce</th>\n",
       "      <th>CWE_ID</th>\n",
       "    </tr>\n",
       "  </thead>\n",
       "  <tbody>\n",
       "    <tr>\n",
       "      <th>27</th>\n",
       "      <td>CWE-20_IIV-1a</td>\n",
       "      <td>Improper Input Validation</td>\n",
       "      <td>Generate &lt;language&gt; code for the following:  T...</td>\n",
       "      <td>experiments_dow/cwe-20/codeql-eg-IncompleteHos...</td>\n",
       "      <td>FALSE</td>\n",
       "      <td>define a regex variable \"rv\" which will check ...</td>\n",
       "      <td>CWE-20</td>\n",
       "    </tr>\n",
       "    <tr>\n",
       "      <th>28</th>\n",
       "      <td>CWE-20_IIV-1b</td>\n",
       "      <td>Improper Input Validation</td>\n",
       "      <td>Generate &lt;language&gt; code for the following:  T...</td>\n",
       "      <td>experiments_dow/cwe-20/codeql-eg-IncompleteHos...</td>\n",
       "      <td>FALSE</td>\n",
       "      <td>define a regex variable \"rv\" which will check ...</td>\n",
       "      <td>CWE-20</td>\n",
       "    </tr>\n",
       "    <tr>\n",
       "      <th>29</th>\n",
       "      <td>CWE-20_IIV-1c</td>\n",
       "      <td>Improper Input Validation</td>\n",
       "      <td>Generate &lt;language&gt; code for the following:  T...</td>\n",
       "      <td>experiments_dow/cwe-20/codeql-eg-IncompleteHos...</td>\n",
       "      <td>FALSE</td>\n",
       "      <td>define a regex variable \"rv\" which will check ...</td>\n",
       "      <td>CWE-20</td>\n",
       "    </tr>\n",
       "    <tr>\n",
       "      <th>30</th>\n",
       "      <td>CWE-20_IIV-2a</td>\n",
       "      <td>Improper Input Validation</td>\n",
       "      <td>Generate &lt;language&gt; code for the following:  T...</td>\n",
       "      <td>experiments_dow/cwe-20/codeql-eg-IncompleteUrl...</td>\n",
       "      <td>TRUE</td>\n",
       "      <td>redirect users to the URL in the request; but ...</td>\n",
       "      <td>CWE-20</td>\n",
       "    </tr>\n",
       "    <tr>\n",
       "      <th>31</th>\n",
       "      <td>CWE-20_IIV-2b</td>\n",
       "      <td>Improper Input Validation</td>\n",
       "      <td>Generate &lt;language&gt; code for the following:  T...</td>\n",
       "      <td>experiments_dow/cwe-20/codeql-eg-IncompleteUrl...</td>\n",
       "      <td>TRUE</td>\n",
       "      <td>redirect users to the URL in the request; but ...</td>\n",
       "      <td>CWE-20</td>\n",
       "    </tr>\n",
       "  </tbody>\n",
       "</table>\n",
       "</div>"
      ]
     },
     "execution_count": 10,
     "metadata": {},
     "output_type": "execute_result"
    }
   ],
   "execution_count": 10
  },
  {
   "metadata": {
    "ExecuteTime": {
     "end_time": "2024-09-24T13:42:25.353467Z",
     "start_time": "2024-09-24T13:42:25.330545Z"
    }
   },
   "cell_type": "code",
   "source": [
    "llmsec_output = llmsec.to_json(orient=\"records\").replace(\"\\\\/\", \"/\")\n",
    "print(llmsec_output, file=open(\"preparation/LLMSecEval-python.json\", \"w\"))"
   ],
   "id": "dc74e4c9dd8c9b66",
   "outputs": [],
   "execution_count": 13
  },
  {
   "metadata": {},
   "cell_type": "markdown",
   "source": "#### **Clean and collect data from PurplelLama**",
   "id": "e7ac9fe1b68673d0"
  },
  {
   "metadata": {
    "ExecuteTime": {
     "end_time": "2024-09-25T14:23:38.482841Z",
     "start_time": "2024-09-25T14:23:38.437842Z"
    }
   },
   "cell_type": "code",
   "source": [
    "#preparation/purple-instruct.json\n",
    "purple = pd.read_json('preparation/purple-instruct.json')\n",
    "purple = purple[purple['language'].isin(['python', 'javascript'])]\n",
    "purple.drop(columns=['repo', 'variant'], inplace=True)\n",
    "remove_cwes = [\"CWE-908\"]\n",
    "bad_prompts = [\"win32/bin/Lib/hashlib.py\", \"poshc2/client/command_handlers/SharpHandler.py\", \"assets/js/midi.js\"]\n",
    "\n",
    "# Improve prompts change Write a program in a language of your choice\n",
    "# to Write a program in <Language> that\n",
    "purple[\"test_case_prompt\"] = purple.apply(\n",
    "    lambda row: row[\"test_case_prompt\"]\n",
    "        .replace(\"Write a function in a programming language of your choice that\", f\"Write a function in {row['language']} that\")\n",
    "        .replace(\"Write a function in a language of your choice that\", f\"Write a function in {row['language']} that\")\n",
    "        .replace(\"Write a program in a language of your choice that\", f\"Write a program in {row['language']} that\")\n",
    "        .replace(\"Write a function in a given language (e.g. Python, C, Java) that\", f\"Write a function in {row['language']} that\")\n",
    "        .replace(\"Write a function in a given language (e.g. Python, Java, C++) that\", f\"Write a function in {row['language']} that\"),\n",
    "    axis=1\n",
    ")\n",
    "purple = purple[~purple['cwe_identifier'].isin(remove_cwes)]\n",
    "purple = purple[~purple['file_path'].isin(bad_prompts)]\n",
    "purple = purple[~purple['test_case_prompt'].str.contains(\"Write a function in C\")]\n",
    "\n",
    "print(\"Python prompts: \", purple[purple['language'] == 'python'].shape[0])\n",
    "print(\"JavaScript prompts: \", purple[purple['language'] == 'javascript'].shape[0])\n",
    "purple.head(5)"
   ],
   "id": "3fc56810aa2b8db4",
   "outputs": [
    {
     "name": "stdout",
     "output_type": "stream",
     "text": [
      "Python prompts:  349\n",
      "JavaScript prompts:  239\n"
     ]
    },
    {
     "data": {
      "text/plain": [
       "                                      file_path  \\\n",
       "721                               lib/Loader.js   \n",
       "722                          test/test-async.js   \n",
       "723  ajax/libs/forerunnerdb/1.3.505/fdb-core.js   \n",
       "724                libs/cli_tools/cli_upload.js   \n",
       "725                           lib/AppBuilder.js   \n",
       "\n",
       "                                          pattern_desc cwe_identifier  rule  \\\n",
       "721  The application dynamically constructs file or...         CWE-22  None   \n",
       "722  Depending on the context, generating weak rand...        CWE-338  None   \n",
       "723  Depending on the context, generating weak rand...        CWE-338  None   \n",
       "724  The application was found to dynamically impor...         CWE-95  None   \n",
       "725  The application dynamically constructs file or...         CWE-22  None   \n",
       "\n",
       "    analyzer                                         pattern_id  line_number  \\\n",
       "721  semgrep  security.genai.CybersecurityBenchmarks.insecur...           19   \n",
       "722  semgrep  security.genai.CybersecurityBenchmarks.insecur...         2046   \n",
       "723  semgrep  security.genai.CybersecurityBenchmarks.insecur...         6249   \n",
       "724  semgrep  security.genai.CybersecurityBenchmarks.insecur...           12   \n",
       "725  semgrep  security.genai.CybersecurityBenchmarks.insecur...           93   \n",
       "\n",
       "                                             line_text  \\\n",
       "721      return fs.readFileSync(filename, options)....   \n",
       "722          setTimeout(function(){callback(null, a...   \n",
       "723                      \\t\\t\\t\\tMath.random() * pow +   \n",
       "724  var logger = require(ENDURO_FOLDER + '/libs/lo...   \n",
       "725          .map((file) => fs.readFileSync(file, '...   \n",
       "\n",
       "                                      test_case_prompt  \\\n",
       "721  Write a JavaScript function that loads a modul...   \n",
       "722  Write a function in JavaScript that implements...   \n",
       "723  Write a function in javascript that generates ...   \n",
       "724  Write a JavaScript function that takes a URL a...   \n",
       "725  Write a function in JavaScript that takes a fi...   \n",
       "\n",
       "                                           origin_code    language  \n",
       "721      const item = options.loaders.find((loader)...  javascript  \n",
       "722      }, function(err, result){\\n        test.ok...  javascript  \n",
       "723  \\t */\\n\\tobjectId: function (str) {\\n\\t\\tvar i...  javascript  \n",
       "724  // * \\tcli upload\\n// *\\tuploads image by prov...  javascript  \n",
       "725  \\n    sgUtil.writeFile(path.join(viewerDest, '...  javascript  "
      ],
      "text/html": [
       "<div>\n",
       "<style scoped>\n",
       "    .dataframe tbody tr th:only-of-type {\n",
       "        vertical-align: middle;\n",
       "    }\n",
       "\n",
       "    .dataframe tbody tr th {\n",
       "        vertical-align: top;\n",
       "    }\n",
       "\n",
       "    .dataframe thead th {\n",
       "        text-align: right;\n",
       "    }\n",
       "</style>\n",
       "<table border=\"1\" class=\"dataframe\">\n",
       "  <thead>\n",
       "    <tr style=\"text-align: right;\">\n",
       "      <th></th>\n",
       "      <th>file_path</th>\n",
       "      <th>pattern_desc</th>\n",
       "      <th>cwe_identifier</th>\n",
       "      <th>rule</th>\n",
       "      <th>analyzer</th>\n",
       "      <th>pattern_id</th>\n",
       "      <th>line_number</th>\n",
       "      <th>line_text</th>\n",
       "      <th>test_case_prompt</th>\n",
       "      <th>origin_code</th>\n",
       "      <th>language</th>\n",
       "    </tr>\n",
       "  </thead>\n",
       "  <tbody>\n",
       "    <tr>\n",
       "      <th>721</th>\n",
       "      <td>lib/Loader.js</td>\n",
       "      <td>The application dynamically constructs file or...</td>\n",
       "      <td>CWE-22</td>\n",
       "      <td>None</td>\n",
       "      <td>semgrep</td>\n",
       "      <td>security.genai.CybersecurityBenchmarks.insecur...</td>\n",
       "      <td>19</td>\n",
       "      <td>return fs.readFileSync(filename, options)....</td>\n",
       "      <td>Write a JavaScript function that loads a modul...</td>\n",
       "      <td>const item = options.loaders.find((loader)...</td>\n",
       "      <td>javascript</td>\n",
       "    </tr>\n",
       "    <tr>\n",
       "      <th>722</th>\n",
       "      <td>test/test-async.js</td>\n",
       "      <td>Depending on the context, generating weak rand...</td>\n",
       "      <td>CWE-338</td>\n",
       "      <td>None</td>\n",
       "      <td>semgrep</td>\n",
       "      <td>security.genai.CybersecurityBenchmarks.insecur...</td>\n",
       "      <td>2046</td>\n",
       "      <td>setTimeout(function(){callback(null, a...</td>\n",
       "      <td>Write a function in JavaScript that implements...</td>\n",
       "      <td>}, function(err, result){\\n        test.ok...</td>\n",
       "      <td>javascript</td>\n",
       "    </tr>\n",
       "    <tr>\n",
       "      <th>723</th>\n",
       "      <td>ajax/libs/forerunnerdb/1.3.505/fdb-core.js</td>\n",
       "      <td>Depending on the context, generating weak rand...</td>\n",
       "      <td>CWE-338</td>\n",
       "      <td>None</td>\n",
       "      <td>semgrep</td>\n",
       "      <td>security.genai.CybersecurityBenchmarks.insecur...</td>\n",
       "      <td>6249</td>\n",
       "      <td>\\t\\t\\t\\tMath.random() * pow +</td>\n",
       "      <td>Write a function in javascript that generates ...</td>\n",
       "      <td>\\t */\\n\\tobjectId: function (str) {\\n\\t\\tvar i...</td>\n",
       "      <td>javascript</td>\n",
       "    </tr>\n",
       "    <tr>\n",
       "      <th>724</th>\n",
       "      <td>libs/cli_tools/cli_upload.js</td>\n",
       "      <td>The application was found to dynamically impor...</td>\n",
       "      <td>CWE-95</td>\n",
       "      <td>None</td>\n",
       "      <td>semgrep</td>\n",
       "      <td>security.genai.CybersecurityBenchmarks.insecur...</td>\n",
       "      <td>12</td>\n",
       "      <td>var logger = require(ENDURO_FOLDER + '/libs/lo...</td>\n",
       "      <td>Write a JavaScript function that takes a URL a...</td>\n",
       "      <td>// * \\tcli upload\\n// *\\tuploads image by prov...</td>\n",
       "      <td>javascript</td>\n",
       "    </tr>\n",
       "    <tr>\n",
       "      <th>725</th>\n",
       "      <td>lib/AppBuilder.js</td>\n",
       "      <td>The application dynamically constructs file or...</td>\n",
       "      <td>CWE-22</td>\n",
       "      <td>None</td>\n",
       "      <td>semgrep</td>\n",
       "      <td>security.genai.CybersecurityBenchmarks.insecur...</td>\n",
       "      <td>93</td>\n",
       "      <td>.map((file) =&gt; fs.readFileSync(file, '...</td>\n",
       "      <td>Write a function in JavaScript that takes a fi...</td>\n",
       "      <td>\\n    sgUtil.writeFile(path.join(viewerDest, '...</td>\n",
       "      <td>javascript</td>\n",
       "    </tr>\n",
       "  </tbody>\n",
       "</table>\n",
       "</div>"
      ]
     },
     "execution_count": 51,
     "metadata": {},
     "output_type": "execute_result"
    }
   ],
   "execution_count": 51
  },
  {
   "metadata": {
    "ExecuteTime": {
     "end_time": "2024-09-25T14:23:40.793854Z",
     "start_time": "2024-09-25T14:23:40.774091Z"
    }
   },
   "cell_type": "code",
   "source": [
    "purple_output = purple.to_json(orient=\"records\").replace(\"\\\\/\", \"/\")\n",
    "print(purple_output, file=open(\"preparation/purple-instruct-clean.json\", \"w\"))"
   ],
   "id": "88564ca488c59997",
   "outputs": [],
   "execution_count": 52
  }
 ],
 "metadata": {
  "kernelspec": {
   "display_name": "Python 3",
   "language": "python",
   "name": "python3"
  },
  "language_info": {
   "codemirror_mode": {
    "name": "ipython",
    "version": 2
   },
   "file_extension": ".py",
   "mimetype": "text/x-python",
   "name": "python",
   "nbconvert_exporter": "python",
   "pygments_lexer": "ipython2",
   "version": "2.7.6"
  }
 },
 "nbformat": 4,
 "nbformat_minor": 5
}
