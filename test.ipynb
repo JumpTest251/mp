{
 "cells": [
  {
   "cell_type": "code",
   "execution_count": 7,
   "id": "56973f75-642b-45c5-91fe-48f8bff6bacb",
   "metadata": {
    "execution": {
     "iopub.execute_input": "2024-10-03T08:58:15.269418Z",
     "iopub.status.busy": "2024-10-03T08:58:15.268813Z",
     "iopub.status.idle": "2024-10-03T08:58:17.129868Z",
     "shell.execute_reply": "2024-10-03T08:58:17.129240Z",
     "shell.execute_reply.started": "2024-10-03T08:58:15.269395Z"
    }
   },
   "outputs": [
    {
     "name": "stdout",
     "output_type": "stream",
     "text": [
      "Name: torch\n",
      "Version: 2.1.1+cu121\n",
      "Summary: Tensors and Dynamic neural networks in Python with strong GPU acceleration\n",
      "Home-page: https://pytorch.org/\n",
      "Author: PyTorch Team\n",
      "Author-email: packages@pytorch.org\n",
      "License: BSD-3\n",
      "Location: /usr/local/lib/python3.11/dist-packages\n",
      "Requires: filelock, fsspec, jinja2, networkx, sympy, triton, typing-extensions\n",
      "Required-by: accelerate, deepspeed, peft, sentence-transformers, timm, torchaudio, torchvision\n"
     ]
    }
   ],
   "source": [
    "!pip show torch"
   ]
  },
  {
   "cell_type": "code",
   "execution_count": 6,
   "id": "a75b9bcd-c2a4-46dc-b3fc-8d156974beb5",
   "metadata": {
    "execution": {
     "iopub.execute_input": "2024-10-03T08:57:59.320293Z",
     "iopub.status.busy": "2024-10-03T08:57:59.319788Z",
     "iopub.status.idle": "2024-10-03T08:58:05.000430Z",
     "shell.execute_reply": "2024-10-03T08:58:04.999853Z",
     "shell.execute_reply.started": "2024-10-03T08:57:59.320263Z"
    }
   },
   "outputs": [
    {
     "name": "stdout",
     "output_type": "stream",
     "text": [
      "Requirement already satisfied: transformers==4.44.2 in /usr/local/lib/python3.11/dist-packages (4.44.2)\n",
      "Requirement already satisfied: filelock in /usr/local/lib/python3.11/dist-packages (from transformers==4.44.2) (3.13.1)\n",
      "Requirement already satisfied: huggingface-hub<1.0,>=0.23.2 in /usr/local/lib/python3.11/dist-packages (from transformers==4.44.2) (0.25.1)\n",
      "Requirement already satisfied: numpy>=1.17 in /usr/local/lib/python3.11/dist-packages (from transformers==4.44.2) (1.26.3)\n",
      "Requirement already satisfied: packaging>=20.0 in /usr/local/lib/python3.11/dist-packages (from transformers==4.44.2) (23.2)\n",
      "Requirement already satisfied: pyyaml>=5.1 in /usr/lib/python3/dist-packages (from transformers==4.44.2) (5.4.1)\n",
      "Requirement already satisfied: regex!=2019.12.17 in /usr/local/lib/python3.11/dist-packages (from transformers==4.44.2) (2023.12.25)\n",
      "Requirement already satisfied: requests in /usr/local/lib/python3.11/dist-packages (from transformers==4.44.2) (2.31.0)\n",
      "Requirement already satisfied: safetensors>=0.4.1 in /usr/local/lib/python3.11/dist-packages (from transformers==4.44.2) (0.4.5)\n",
      "Requirement already satisfied: tokenizers<0.20,>=0.19 in /usr/local/lib/python3.11/dist-packages (from transformers==4.44.2) (0.19.1)\n",
      "Requirement already satisfied: tqdm>=4.27 in /usr/local/lib/python3.11/dist-packages (from transformers==4.44.2) (4.66.1)\n",
      "Requirement already satisfied: fsspec>=2023.5.0 in /usr/local/lib/python3.11/dist-packages (from huggingface-hub<1.0,>=0.23.2->transformers==4.44.2) (2023.6.0)\n",
      "Requirement already satisfied: typing-extensions>=3.7.4.3 in /usr/local/lib/python3.11/dist-packages (from huggingface-hub<1.0,>=0.23.2->transformers==4.44.2) (4.9.0)\n",
      "Requirement already satisfied: charset-normalizer<4,>=2 in /usr/local/lib/python3.11/dist-packages (from requests->transformers==4.44.2) (3.3.2)\n",
      "Requirement already satisfied: idna<4,>=2.5 in /usr/lib/python3/dist-packages (from requests->transformers==4.44.2) (3.3)\n",
      "Requirement already satisfied: urllib3<3,>=1.21.1 in /usr/local/lib/python3.11/dist-packages (from requests->transformers==4.44.2) (2.0.7)\n",
      "Requirement already satisfied: certifi>=2017.4.17 in /usr/lib/python3/dist-packages (from requests->transformers==4.44.2) (2020.6.20)\n",
      "\u001b[33mWARNING: Running pip as the 'root' user can result in broken permissions and conflicting behaviour with the system package manager. It is recommended to use a virtual environment instead: https://pip.pypa.io/warnings/venv\u001b[0m\u001b[33m\n",
      "\u001b[0m\u001b[31mERROR: Could not find a version that satisfies the requirement torch==2.4.1+cu121 (from versions: 1.13.0, 1.13.1, 2.0.0, 2.0.1, 2.1.0, 2.1.1, 2.1.2, 2.2.0, 2.2.1, 2.2.2, 2.3.0, 2.3.1, 2.4.0, 2.4.1)\u001b[0m\u001b[31m\n",
      "\u001b[0m\u001b[31mERROR: No matching distribution found for torch==2.4.1+cu121\u001b[0m\u001b[31m\n",
      "\u001b[0mRequirement already satisfied: accelerate==0.34.2 in /usr/local/lib/python3.11/dist-packages (0.34.2)\n",
      "Requirement already satisfied: numpy<3.0.0,>=1.17 in /usr/local/lib/python3.11/dist-packages (from accelerate==0.34.2) (1.26.3)\n",
      "Requirement already satisfied: packaging>=20.0 in /usr/local/lib/python3.11/dist-packages (from accelerate==0.34.2) (23.2)\n",
      "Requirement already satisfied: psutil in /usr/local/lib/python3.11/dist-packages (from accelerate==0.34.2) (5.9.8)\n",
      "Requirement already satisfied: pyyaml in /usr/lib/python3/dist-packages (from accelerate==0.34.2) (5.4.1)\n",
      "Requirement already satisfied: torch>=1.10.0 in /usr/local/lib/python3.11/dist-packages (from accelerate==0.34.2) (2.1.1+cu121)\n",
      "Requirement already satisfied: huggingface-hub>=0.21.0 in /usr/local/lib/python3.11/dist-packages (from accelerate==0.34.2) (0.25.1)\n",
      "Requirement already satisfied: safetensors>=0.4.3 in /usr/local/lib/python3.11/dist-packages (from accelerate==0.34.2) (0.4.5)\n",
      "Requirement already satisfied: filelock in /usr/local/lib/python3.11/dist-packages (from huggingface-hub>=0.21.0->accelerate==0.34.2) (3.13.1)\n",
      "Requirement already satisfied: fsspec>=2023.5.0 in /usr/local/lib/python3.11/dist-packages (from huggingface-hub>=0.21.0->accelerate==0.34.2) (2023.6.0)\n",
      "Requirement already satisfied: requests in /usr/local/lib/python3.11/dist-packages (from huggingface-hub>=0.21.0->accelerate==0.34.2) (2.31.0)\n",
      "Requirement already satisfied: tqdm>=4.42.1 in /usr/local/lib/python3.11/dist-packages (from huggingface-hub>=0.21.0->accelerate==0.34.2) (4.66.1)\n",
      "Requirement already satisfied: typing-extensions>=3.7.4.3 in /usr/local/lib/python3.11/dist-packages (from huggingface-hub>=0.21.0->accelerate==0.34.2) (4.9.0)\n",
      "Requirement already satisfied: sympy in /usr/local/lib/python3.11/dist-packages (from torch>=1.10.0->accelerate==0.34.2) (1.12)\n",
      "Requirement already satisfied: networkx in /usr/local/lib/python3.11/dist-packages (from torch>=1.10.0->accelerate==0.34.2) (3.2.1)\n",
      "Requirement already satisfied: jinja2 in /usr/local/lib/python3.11/dist-packages (from torch>=1.10.0->accelerate==0.34.2) (3.1.3)\n",
      "Requirement already satisfied: triton==2.1.0 in /usr/local/lib/python3.11/dist-packages (from torch>=1.10.0->accelerate==0.34.2) (2.1.0)\n",
      "Requirement already satisfied: MarkupSafe>=2.0 in /usr/local/lib/python3.11/dist-packages (from jinja2->torch>=1.10.0->accelerate==0.34.2) (2.1.4)\n",
      "Requirement already satisfied: charset-normalizer<4,>=2 in /usr/local/lib/python3.11/dist-packages (from requests->huggingface-hub>=0.21.0->accelerate==0.34.2) (3.3.2)\n",
      "Requirement already satisfied: idna<4,>=2.5 in /usr/lib/python3/dist-packages (from requests->huggingface-hub>=0.21.0->accelerate==0.34.2) (3.3)\n",
      "Requirement already satisfied: urllib3<3,>=1.21.1 in /usr/local/lib/python3.11/dist-packages (from requests->huggingface-hub>=0.21.0->accelerate==0.34.2) (2.0.7)\n",
      "Requirement already satisfied: certifi>=2017.4.17 in /usr/lib/python3/dist-packages (from requests->huggingface-hub>=0.21.0->accelerate==0.34.2) (2020.6.20)\n",
      "Requirement already satisfied: mpmath>=0.19 in /usr/local/lib/python3.11/dist-packages (from sympy->torch>=1.10.0->accelerate==0.34.2) (1.3.0)\n",
      "\u001b[33mWARNING: Running pip as the 'root' user can result in broken permissions and conflicting behaviour with the system package manager. It is recommended to use a virtual environment instead: https://pip.pypa.io/warnings/venv\u001b[0m\u001b[33m\n",
      "\u001b[0m"
     ]
    }
   ],
   "source": [
    "!pip install transformers==4.44.2\n",
    "!pip install torch==2.4.1+cu121\n",
    "!pip install accelerate==0.34.2"
   ]
  },
  {
   "cell_type": "code",
   "execution_count": 2,
   "id": "c2d55dc6-58fb-4924-94c6-76079f9ed839",
   "metadata": {
    "execution": {
     "iopub.execute_input": "2024-10-03T08:56:57.225115Z",
     "iopub.status.busy": "2024-10-03T08:56:57.224827Z",
     "iopub.status.idle": "2024-10-03T08:57:04.921627Z",
     "shell.execute_reply": "2024-10-03T08:57:04.921032Z",
     "shell.execute_reply.started": "2024-10-03T08:56:57.225093Z"
    }
   },
   "outputs": [
    {
     "name": "stderr",
     "output_type": "stream",
     "text": [
      "2024-10-03 08:57:00.194348: E external/local_xla/xla/stream_executor/cuda/cuda_dnn.cc:9261] Unable to register cuDNN factory: Attempting to register factory for plugin cuDNN when one has already been registered\n",
      "2024-10-03 08:57:00.194441: E external/local_xla/xla/stream_executor/cuda/cuda_fft.cc:607] Unable to register cuFFT factory: Attempting to register factory for plugin cuFFT when one has already been registered\n",
      "2024-10-03 08:57:00.272015: E external/local_xla/xla/stream_executor/cuda/cuda_blas.cc:1515] Unable to register cuBLAS factory: Attempting to register factory for plugin cuBLAS when one has already been registered\n",
      "2024-10-03 08:57:00.441927: I tensorflow/core/platform/cpu_feature_guard.cc:182] This TensorFlow binary is optimized to use available CPU instructions in performance-critical operations.\n",
      "To enable the following instructions: AVX2 FMA, in other operations, rebuild TensorFlow with the appropriate compiler flags.\n",
      "2024-10-03 08:57:02.002489: W tensorflow/compiler/tf2tensorrt/utils/py_utils.cc:38] TF-TRT Warning: Could not find TensorRT\n"
     ]
    }
   ],
   "source": [
    "from transformers import pipeline, AutoTokenizer, AutoModelForCausalLM\n",
    "import torch"
   ]
  },
  {
   "cell_type": "code",
   "execution_count": 3,
   "id": "14ead5a1-77c4-41bc-8c8e-fffed1007a43",
   "metadata": {
    "execution": {
     "iopub.execute_input": "2024-10-03T08:57:07.544027Z",
     "iopub.status.busy": "2024-10-03T08:57:07.543286Z",
     "iopub.status.idle": "2024-10-03T08:57:12.450010Z",
     "shell.execute_reply": "2024-10-03T08:57:12.449352Z",
     "shell.execute_reply.started": "2024-10-03T08:57:07.543998Z"
    }
   },
   "outputs": [
    {
     "name": "stdout",
     "output_type": "stream",
     "text": [
      "Using torch 2.1.1+cu121 (NVIDIA RTX A4000)\n"
     ]
    }
   ],
   "source": [
    "print(f\"Using torch {torch.__version__} ({torch.cuda.get_device_properties(0).name if torch.cuda.is_available() else 'CPU'})\")"
   ]
  },
  {
   "cell_type": "code",
   "execution_count": 8,
   "id": "e3dc4743-aa59-4dca-968a-955a632b188d",
   "metadata": {
    "execution": {
     "iopub.execute_input": "2024-10-03T08:58:24.917335Z",
     "iopub.status.busy": "2024-10-03T08:58:24.916690Z",
     "iopub.status.idle": "2024-10-03T08:58:25.638307Z",
     "shell.execute_reply": "2024-10-03T08:58:25.637751Z",
     "shell.execute_reply.started": "2024-10-03T08:58:24.917307Z"
    }
   },
   "outputs": [
    {
     "data": {
      "application/vnd.jupyter.widget-view+json": {
       "model_id": "c00c8910be5d42edb9a655dd13906be7",
       "version_major": 2,
       "version_minor": 0
      },
      "text/plain": [
       "tokenizer_config.json:   0%|          | 0.00/1.59k [00:00<?, ?B/s]"
      ]
     },
     "metadata": {},
     "output_type": "display_data"
    },
    {
     "data": {
      "application/vnd.jupyter.widget-view+json": {
       "model_id": "2c7ffe5705d84389bdb6767625604b70",
       "version_major": 2,
       "version_minor": 0
      },
      "text/plain": [
       "tokenizer.model:   0%|          | 0.00/500k [00:00<?, ?B/s]"
      ]
     },
     "metadata": {},
     "output_type": "display_data"
    },
    {
     "data": {
      "application/vnd.jupyter.widget-view+json": {
       "model_id": "93d221d4042543a39c69ebd01f89937e",
       "version_major": 2,
       "version_minor": 0
      },
      "text/plain": [
       "tokenizer.json:   0%|          | 0.00/1.84M [00:00<?, ?B/s]"
      ]
     },
     "metadata": {},
     "output_type": "display_data"
    },
    {
     "data": {
      "application/vnd.jupyter.widget-view+json": {
       "model_id": "98e54738215640f895ea8db2a172dafc",
       "version_major": 2,
       "version_minor": 0
      },
      "text/plain": [
       "special_tokens_map.json:   0%|          | 0.00/411 [00:00<?, ?B/s]"
      ]
     },
     "metadata": {},
     "output_type": "display_data"
    }
   ],
   "source": [
    "model_name = \"codellama/CodeLlama-7b-Instruct-hf\"\n",
    "tokenizer = AutoTokenizer.from_pretrained(model_name)"
   ]
  },
  {
   "cell_type": "code",
   "execution_count": 9,
   "id": "7abbfece-71c2-4f30-acbe-cc06b284b5c8",
   "metadata": {
    "execution": {
     "iopub.execute_input": "2024-10-03T09:00:11.552463Z",
     "iopub.status.busy": "2024-10-03T09:00:11.551882Z",
     "iopub.status.idle": "2024-10-03T09:01:01.107212Z",
     "shell.execute_reply": "2024-10-03T09:01:01.106861Z",
     "shell.execute_reply.started": "2024-10-03T09:00:11.552437Z"
    }
   },
   "outputs": [
    {
     "data": {
      "application/vnd.jupyter.widget-view+json": {
       "model_id": "d2c9715e5ae040809fda4837ba70f8ff",
       "version_major": 2,
       "version_minor": 0
      },
      "text/plain": [
       "config.json:   0%|          | 0.00/646 [00:00<?, ?B/s]"
      ]
     },
     "metadata": {},
     "output_type": "display_data"
    },
    {
     "data": {
      "application/vnd.jupyter.widget-view+json": {
       "model_id": "99a70460a1ff4e179fb5650a16b85e24",
       "version_major": 2,
       "version_minor": 0
      },
      "text/plain": [
       "model.safetensors.index.json:   0%|          | 0.00/25.1k [00:00<?, ?B/s]"
      ]
     },
     "metadata": {},
     "output_type": "display_data"
    },
    {
     "data": {
      "application/vnd.jupyter.widget-view+json": {
       "model_id": "b76c8c0b9bc744ba8d88d06fab4ac4af",
       "version_major": 2,
       "version_minor": 0
      },
      "text/plain": [
       "Downloading shards:   0%|          | 0/2 [00:00<?, ?it/s]"
      ]
     },
     "metadata": {},
     "output_type": "display_data"
    },
    {
     "data": {
      "application/vnd.jupyter.widget-view+json": {
       "model_id": "2c8921942b3546aeb20c7b6f5a304923",
       "version_major": 2,
       "version_minor": 0
      },
      "text/plain": [
       "model-00001-of-00002.safetensors:   0%|          | 0.00/9.98G [00:00<?, ?B/s]"
      ]
     },
     "metadata": {},
     "output_type": "display_data"
    },
    {
     "data": {
      "application/vnd.jupyter.widget-view+json": {
       "model_id": "05d60500ab314704bf81f0d9c32e9a2a",
       "version_major": 2,
       "version_minor": 0
      },
      "text/plain": [
       "model-00002-of-00002.safetensors:   0%|          | 0.00/3.50G [00:00<?, ?B/s]"
      ]
     },
     "metadata": {},
     "output_type": "display_data"
    },
    {
     "data": {
      "application/vnd.jupyter.widget-view+json": {
       "model_id": "bf65144c1cf9495098baea6839303fae",
       "version_major": 2,
       "version_minor": 0
      },
      "text/plain": [
       "Loading checkpoint shards:   0%|          | 0/2 [00:00<?, ?it/s]"
      ]
     },
     "metadata": {},
     "output_type": "display_data"
    },
    {
     "data": {
      "application/vnd.jupyter.widget-view+json": {
       "model_id": "fb74e4c32cc8454c87738ffc90fdee6b",
       "version_major": 2,
       "version_minor": 0
      },
      "text/plain": [
       "generation_config.json:   0%|          | 0.00/116 [00:00<?, ?B/s]"
      ]
     },
     "metadata": {},
     "output_type": "display_data"
    }
   ],
   "source": [
    "model = AutoModelForCausalLM.from_pretrained(\n",
    "    model_name,\n",
    "    torch_dtype=\"auto\",\n",
    "    device_map=\"auto\"\n",
    ")"
   ]
  },
  {
   "cell_type": "code",
   "execution_count": 10,
   "id": "8d73c883-bd46-4303-ab96-0c9507bffb58",
   "metadata": {
    "execution": {
     "iopub.execute_input": "2024-10-03T09:04:09.962813Z",
     "iopub.status.busy": "2024-10-03T09:04:09.962345Z",
     "iopub.status.idle": "2024-10-03T09:04:09.989918Z",
     "shell.execute_reply": "2024-10-03T09:04:09.989409Z",
     "shell.execute_reply.started": "2024-10-03T09:04:09.962793Z"
    }
   },
   "outputs": [
    {
     "name": "stdout",
     "output_type": "stream",
     "text": [
      "Tokenized text:  <s>[INST] <<SYS>>\n",
      "You are a professional python programmer only respond with code\n",
      "<</SYS>>\n",
      "\n",
      "Generate Code for a function creates an sql query to insert data into a table based on some user input [/INST]\n"
     ]
    }
   ],
   "source": [
    "messages = [\n",
    "    {\"role\": \"system\", \"content\": \"You are a professional python programmer only respond with code\"},\n",
    "    {\"role\": \"user\", \"content\": \"Generate Code for a function creates an sql query to insert data into a table based on some user input\"}\n",
    "]\n",
    "text = tokenizer.apply_chat_template(\n",
    "    messages,\n",
    "    tokenize=False,\n",
    "    add_generation_prompt=True\n",
    ")\n",
    "print(\"Tokenized text: \", text)"
   ]
  },
  {
   "cell_type": "code",
   "execution_count": 30,
   "id": "95478fa2-45e6-453a-abb6-c40339952725",
   "metadata": {
    "execution": {
     "iopub.execute_input": "2024-10-03T09:43:18.047517Z",
     "iopub.status.busy": "2024-10-03T09:43:18.046930Z",
     "iopub.status.idle": "2024-10-03T09:43:18.058284Z",
     "shell.execute_reply": "2024-10-03T09:43:18.057789Z",
     "shell.execute_reply.started": "2024-10-03T09:43:18.047495Z"
    }
   },
   "outputs": [
    {
     "name": "stdout",
     "output_type": "stream",
     "text": [
      "{'input_ids': tensor([[    1,     1,   518, 25580, 29962,  3532, 14816, 29903,  6778,    13,\n",
      "          3492,   526,   263, 10257,  3017, 27922,   871, 10049,   411,   775,\n",
      "            13, 29966,   829, 14816, 29903,  6778,    13,    13,  5631,   403,\n",
      "          5920,   363,   263,   740, 10017,   385,  4576,  2346,   304,  4635,\n",
      "           848,   964,   263,  1591,  2729,   373,   777,  1404,  1881,   518,\n",
      "         29914, 25580, 29962]], device='cuda:0'), 'attention_mask': tensor([[1, 1, 1, 1, 1, 1, 1, 1, 1, 1, 1, 1, 1, 1, 1, 1, 1, 1, 1, 1, 1, 1, 1, 1,\n",
      "         1, 1, 1, 1, 1, 1, 1, 1, 1, 1, 1, 1, 1, 1, 1, 1, 1, 1, 1, 1, 1, 1, 1, 1,\n",
      "         1, 1, 1, 1, 1]], device='cuda:0')}\n"
     ]
    }
   ],
   "source": [
    "model_inputs = tokenizer([text], return_tensors=\"pt\").to(model.device)\n",
    "print(model_inputs)"
   ]
  },
  {
   "cell_type": "code",
   "execution_count": 23,
   "id": "5708b30c-6dee-4996-9c2c-17166fdd7583",
   "metadata": {
    "execution": {
     "iopub.execute_input": "2024-10-03T09:37:33.985255Z",
     "iopub.status.busy": "2024-10-03T09:37:33.984436Z",
     "iopub.status.idle": "2024-10-03T09:37:38.519780Z",
     "shell.execute_reply": "2024-10-03T09:37:38.519257Z",
     "shell.execute_reply.started": "2024-10-03T09:37:33.985226Z"
    }
   },
   "outputs": [
    {
     "name": "stderr",
     "output_type": "stream",
     "text": [
      "Setting `pad_token_id` to `eos_token_id`:2 for open-end generation.\n"
     ]
    }
   ],
   "source": [
    "generated_ids = model.generate(\n",
    "    **model_inputs,\n",
    "    max_new_tokens=512\n",
    ")\n",
    "generated_ids = [\n",
    "    output_ids[len(input_ids):] for input_ids, output_ids in zip(model_inputs.input_ids, generated_ids)\n",
    "]\n",
    "\n"
   ]
  },
  {
   "cell_type": "code",
   "execution_count": 25,
   "id": "a44e6250-fa55-4bc4-afa6-1d202c61b578",
   "metadata": {
    "execution": {
     "iopub.execute_input": "2024-10-03T09:37:55.353395Z",
     "iopub.status.busy": "2024-10-03T09:37:55.352766Z",
     "iopub.status.idle": "2024-10-03T09:37:55.356790Z",
     "shell.execute_reply": "2024-10-03T09:37:55.356337Z",
     "shell.execute_reply.started": "2024-10-03T09:37:55.353375Z"
    }
   },
   "outputs": [
    {
     "name": "stdout",
     "output_type": "stream",
     "text": [
      "[INST] <<SYS>>\n",
      "You are a professional python programmer only respond with code\n",
      "<</SYS>>\n",
      "\n",
      "Generate Code for a function creates an sql query to insert data into a table based on some user input [/INST]  def create_insert_query(table_name, column_names, values):\n",
      "    query = \"INSERT INTO \" + table_name + \" (\"\n",
      "    for i, column_name in enumerate(column_names):\n",
      "        if i != 0:\n",
      "            query += \", \"\n",
      "        query += column_name\n",
      "    query += \") VALUES (\"\n",
      "    for i, value in enumerate(values):\n",
      "        if i != 0:\n",
      "            query += \", \"\n",
      "        query += value\n",
      "    query += \")\"\n",
      "    return query\n"
     ]
    }
   ],
   "source": [
    "response = tokenizer.batch_decode(generated_ids, skip_special_tokens=True)[0]\n",
    "print(response)"
   ]
  },
  {
   "cell_type": "code",
   "execution_count": 20,
   "id": "2d234501-559c-43c7-9e3a-ad5dff134c8d",
   "metadata": {
    "execution": {
     "iopub.execute_input": "2024-10-03T09:23:53.724886Z",
     "iopub.status.busy": "2024-10-03T09:23:53.724169Z",
     "iopub.status.idle": "2024-10-03T09:23:58.686414Z",
     "shell.execute_reply": "2024-10-03T09:23:58.685909Z",
     "shell.execute_reply.started": "2024-10-03T09:23:53.724867Z"
    }
   },
   "outputs": [
    {
     "data": {
      "application/vnd.jupyter.widget-view+json": {
       "model_id": "dc6e060fddb44fd5a3e328a4d714de33",
       "version_major": 2,
       "version_minor": 0
      },
      "text/plain": [
       "Loading checkpoint shards:   0%|          | 0/2 [00:00<?, ?it/s]"
      ]
     },
     "metadata": {},
     "output_type": "display_data"
    },
    {
     "name": "stderr",
     "output_type": "stream",
     "text": [
      "Some parameters are on the meta device because they were offloaded to the cpu.\n"
     ]
    }
   ],
   "source": [
    "pipe = pipeline(\n",
    "    \"text-generation\",\n",
    "    model=\"codellama/CodeLlama-7b-Instruct-hf\",\n",
    "    torch_dtype=torch.float16,\n",
    "    device_map=\"auto\",\n",
    ")"
   ]
  },
  {
   "cell_type": "code",
   "execution_count": 21,
   "id": "64c52978-5e4a-483d-9e22-c7b8f0fb6b57",
   "metadata": {
    "execution": {
     "iopub.execute_input": "2024-10-03T09:24:03.953350Z",
     "iopub.status.busy": "2024-10-03T09:24:03.952766Z",
     "iopub.status.idle": "2024-10-03T09:26:07.908929Z",
     "shell.execute_reply": "2024-10-03T09:26:07.908379Z",
     "shell.execute_reply.started": "2024-10-03T09:24:03.953329Z"
    }
   },
   "outputs": [
    {
     "name": "stderr",
     "output_type": "stream",
     "text": [
      "Setting `pad_token_id` to `eos_token_id`:2 for open-end generation.\n"
     ]
    },
    {
     "data": {
      "text/plain": [
       "[{'generated_text': [{'role': 'system',\n",
       "    'content': 'You are a professional python programmer only respond with code'},\n",
       "   {'role': 'user',\n",
       "    'content': 'Generate Code for a function creates an sql query to insert data into a table based on some user input'},\n",
       "   {'role': 'assistant',\n",
       "    'content': '  def create_insert_query(table_name, column_names, values):\\n    query = \"INSERT INTO \" + table_name + \" (\"\\n    query += \", \".join(column_names)\\n    query += \") VALUES (\"\\n    query += \", \".join([\"%s\"] * len(values))\\n    query += \")\"\\n    return query, values'}]}]"
      ]
     },
     "execution_count": 21,
     "metadata": {},
     "output_type": "execute_result"
    }
   ],
   "source": [
    "\n",
    "pipe(messages, max_length=512)"
   ]
  },
  {
   "cell_type": "code",
   "execution_count": null,
   "id": "d7833ea9-babc-421c-bb2a-7966af3a40b8",
   "metadata": {},
   "outputs": [],
   "source": []
  }
 ],
 "metadata": {
  "kernelspec": {
   "display_name": "Python 3 (ipykernel)",
   "language": "python",
   "name": "python3"
  },
  "language_info": {
   "codemirror_mode": {
    "name": "ipython",
    "version": 3
   },
   "file_extension": ".py",
   "mimetype": "text/x-python",
   "name": "python",
   "nbconvert_exporter": "python",
   "pygments_lexer": "ipython3",
   "version": "3.11.7"
  }
 },
 "nbformat": 4,
 "nbformat_minor": 5
}
